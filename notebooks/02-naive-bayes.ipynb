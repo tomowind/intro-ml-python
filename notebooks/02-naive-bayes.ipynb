{
 "cells": [
  {
   "cell_type": "markdown",
   "metadata": {},
   "source": [
    "# Supervised Learning: Naive Bayes"
   ]
  },
  {
   "cell_type": "code",
   "execution_count": 1,
   "metadata": {},
   "outputs": [],
   "source": [
    "import matplotlib.pyplot as plt\n",
    "import mglearn\n",
    "import numpy as np\n",
    "import pandas as pd\n",
    "import seaborn as sns\n",
    "import sklearn\n",
    "from IPython.display import display"
   ]
  },
  {
   "cell_type": "code",
   "execution_count": 2,
   "metadata": {},
   "outputs": [],
   "source": [
    "import warnings\n",
    "warnings.filterwarnings('ignore')"
   ]
  },
  {
   "cell_type": "markdown",
   "metadata": {},
   "source": [
    "## Overview\n",
    "\n",
    "책에는 딱 세페이지의 설명만 있고 예제도 아예 없습니다. `sklearn.naive_bayes`를 뒤져보며 각각의 알고리즘을 한번씩 돌려보도록 하겠습니다.\n",
    "\n",
    "| Algorithm | 간단설명 |\n",
    "|--|--|\n",
    "| BernoulliNB | binary data 에 적용, mostly used in text data classification. |\n",
    "| ComplementNB | MultinomialNB 의 \"severe assump\"을 보완한 버전이라고 |\n",
    "| GaussianNB | continuous data 에 적용|\n",
    "| MultinomialNB | count data 에 적용, mostly used in text data classification. |"
   ]
  },
  {
   "cell_type": "markdown",
   "metadata": {},
   "source": [
    "## BernoulliNB\n",
    "\n",
    "기존 데이터를 binary 로 변환한 후에 사용해야 하는 것 같습니다. [programcreek](https://www.programcreek.com/python/example/83982/sklearn.naive_bayes.BernoulliNB) 에 재미있는 예제를 많이 모아놨는데, 그 중에 그나마 쉬워보이는 것을 긁어옵니다 (그래도 잘 이해가 안됩니다.)"
   ]
  },
  {
   "cell_type": "code",
   "execution_count": 3,
   "metadata": {},
   "outputs": [],
   "source": [
    "# https://github.com/angadgill/Parallel-SGD/blob/master/scikit-learn/sklearn/tests/test_naive_bayes.py\n",
    "\n",
    "from sklearn.naive_bayes import BernoulliNB\n",
    "from sklearn.utils.testing import assert_array_almost_equal\n",
    "\n",
    "# Tests that BernoulliNB when alpha=1.0 gives the same values as\n",
    "# those given for the toy example in Manning, Raghavan, and\n",
    "# Schuetze's \"Introduction to Information Retrieval\" book:\n",
    "# http://nlp.stanford.edu/IR-book/html/htmledition/the-bernoulli-model-1.html\n",
    "\n",
    "# Training data points are:\n",
    "# Chinese Beijing Chinese (class: China)\n",
    "# Chinese Chinese Shanghai (class: China)\n",
    "# Chinese Macao (class: China)\n",
    "# Tokyo Japan Chinese (class: Japan)\n",
    "\n",
    "# Features are Beijing, Chinese, Japan, Macao, Shanghai, and Tokyo\n",
    "X = np.array([[1, 1, 0, 0, 0, 0],\n",
    "              [0, 1, 0, 0, 1, 0],\n",
    "              [0, 1, 0, 1, 0, 0],\n",
    "              [0, 1, 1, 0, 0, 1]])\n",
    "\n",
    "# Classes are China (0), Japan (1)\n",
    "Y = np.array([0, 0, 0, 1])\n",
    "\n",
    "# Fit BernoulliBN w/ alpha = 1.0\n",
    "clf = BernoulliNB(alpha=1.0)\n",
    "clf.fit(X, Y)\n",
    "\n",
    "# Check the class prior is correct\n",
    "class_prior = np.array([0.75, 0.25])\n",
    "assert_array_almost_equal(np.exp(clf.class_log_prior_), class_prior)\n",
    "\n",
    "# Check the feature probabilities are correct\n",
    "feature_prob = np.array([[0.4, 0.8, 0.2, 0.4, 0.4, 0.2],\n",
    "                         [1/3.0, 2/3.0, 2/3.0, 1/3.0, 1/3.0, 2/3.0]])\n",
    "assert_array_almost_equal(np.exp(clf.feature_log_prob_), feature_prob)\n",
    "\n",
    "# Testing data point is:\n",
    "# Chinese Chinese Chinese Tokyo Japan\n",
    "X_test = np.array([[0, 1, 1, 0, 0, 1]])\n",
    "\n",
    "# Check the predictive probabilities are correct\n",
    "unnorm_predict_proba = np.array([[0.005183999999999999,\n",
    "                                  0.02194787379972565]])\n",
    "predict_proba = unnorm_predict_proba / np.sum(unnorm_predict_proba)\n",
    "assert_array_almost_equal(clf.predict_proba(X_test), predict_proba)"
   ]
  },
  {
   "cell_type": "markdown",
   "metadata": {},
   "source": [
    "## TODO: Study the basics later\n",
    "\n",
    "책에 너무 자료가 없어서 인터넷에서 써치를 하다가 재미있는 블로그 기사를 발견했습니다: [Naive Bayes from Scratch in Python](http://kenzotakahashi.github.io/naive-bayes-from-scratch-in-python.html)\n",
    "\n",
    "위의 예제코드에서 나온 링크와 같은 책([Introduction to Information Retrieval](https://nlp.stanford.edu/IR-book/))을 링크하고 있더군요. \n",
    "\n",
    "나중에 이 책을 제대로 읽어보고 이 노트북을 업데이트 하겠습니다."
   ]
  }
 ],
 "metadata": {
  "kernelspec": {
   "display_name": "Python 3",
   "language": "python",
   "name": "python3"
  },
  "language_info": {
   "codemirror_mode": {
    "name": "ipython",
    "version": 3
   },
   "file_extension": ".py",
   "mimetype": "text/x-python",
   "name": "python",
   "nbconvert_exporter": "python",
   "pygments_lexer": "ipython3",
   "version": "3.7.2"
  }
 },
 "nbformat": 4,
 "nbformat_minor": 2
}
